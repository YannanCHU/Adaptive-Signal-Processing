{
 "cells": [
  {
   "cell_type": "code",
   "execution_count": 1,
   "metadata": {},
   "outputs": [],
   "source": [
    "%load_ext autoreload\n",
    "%autoreload 2\n",
    "%matplotlib inline"
   ]
  },
  {
   "cell_type": "code",
   "execution_count": 2,
   "metadata": {},
   "outputs": [],
   "source": [
    "import numpy as np\n",
    "import matplotlib.pyplot as plt\n",
    "from hottbox.core import Tensor"
   ]
  },
  {
   "cell_type": "markdown",
   "metadata": {
    "toc-hr-collapsed": false
   },
   "source": [
    "[Return to Table of Contents](./0_Table_of_contents.ipynb)"
   ]
  },
  {
   "cell_type": "markdown",
   "metadata": {
    "toc-hr-collapsed": false
   },
   "source": [
    "# Tensors and basic operations"
   ]
  },
  {
   "cell_type": "markdown",
   "metadata": {
    "toc-hr-collapsed": true
   },
   "source": [
    "<img src=\"./imgs/tensors_dogs.jpg\" alt=\"Drawing\" style=\"width: 500px;\"/>\n",
    "\n",
    "A tensor is a multi-dimenaional array of data where each dimension is conventionally referred to as the **mode**. Tensor order is defined by the number of its modes which is equivivalent to the number of indices required to identify a particular entry of a multi-dimensional array. For ease of visualisation and compact notation, we consider a third order tensor $\\mathbf{\\underline{X}} \\in \\mathbb{R}^{I \\times J \\times K}$. Thus, an element of such a tensor, $\\mathbf{\\underline{X}} \\in \\mathbb{R}^{I \\times J \\times K}$, can be written in a general form as:\n",
    "\n",
    "$$ x_{ijk} = \\mathbf{\\underline{X}}[i, j, k]$$\n",
    "\n",
    "> **Note:** In order to be consistent with Python indexing, count of modes and elements within starts from zeros.\n",
    "\n",
    "Creation of a tensor starts with a formation of a multidimensional array of data."
   ]
  },
  {
   "cell_type": "code",
   "execution_count": 3,
   "metadata": {},
   "outputs": [
    {
     "name": "stdout",
     "output_type": "stream",
     "text": [
      "This tensor is of order 3 and consists of 24 elements.\n",
      "Sizes and names of its modes are (2, 3, 4) and ['mode-0', 'mode-1', 'mode-2'] respectively.\n"
     ]
    },
    {
     "data": {
      "text/plain": [
       "array([[[ 0,  1,  2,  3],\n",
       "        [ 4,  5,  6,  7],\n",
       "        [ 8,  9, 10, 11]],\n",
       "\n",
       "       [[12, 13, 14, 15],\n",
       "        [16, 17, 18, 19],\n",
       "        [20, 21, 22, 23]]])"
      ]
     },
     "execution_count": 3,
     "metadata": {},
     "output_type": "execute_result"
    }
   ],
   "source": [
    "# Create 3-d array of data\n",
    "array_3d = np.arange(24).reshape((2, 3, 4))\n",
    "\n",
    "# Create tensor\n",
    "tensor = Tensor(array_3d)\n",
    "\n",
    "# Result preview\n",
    "print(tensor)\n",
    "tensor.data"
   ]
  },
  {
   "cell_type": "markdown",
   "metadata": {
    "toc-hr-collapsed": true
   },
   "source": [
    "## **Assigment 1**\n",
    "\n",
    "1. Create a tensor of order 5 (of any shape) and with all its values equal to 5. Then, calculate its Frobenious norm. \n",
    "2. Construct several tensors of orders varying from 3 to 20, with the size of each dimension equal to 2. Plot the relation between an order of a tensor and the number of its elements.\n",
    "3. Construct several tensors of order 3 with the size of each dimension varying from 3 to 15. Plot the relation between the size of dimensions of a tensor and the number of its elements.\n",
    "4. Analyse and compare the so obtained graphs."
   ]
  },
  {
   "cell_type": "markdown",
   "metadata": {},
   "source": [
    "### Solution: Part 1"
   ]
  },
  {
   "cell_type": "code",
   "execution_count": 4,
   "metadata": {},
   "outputs": [
    {
     "name": "stdout",
     "output_type": "stream",
     "text": [
      "This tensor is of order 5 and consists of 243 elements.\n",
      "Sizes and names of its modes are (3, 3, 3, 3, 3) and ['mode-0', 'mode-1', 'mode-2', 'mode-3', 'mode-4'] respectively.\n"
     ]
    }
   ],
   "source": [
    "# Create 5-d array of data\n",
    "tensorOrder = 5;\n",
    "array_5d = 5*np.ones(pow(3, tensorOrder)).reshape((3, 3, 3, 3, 3));\n",
    "\n",
    "# Create a tensor of order 5\n",
    "tensor_5d = Tensor(array_5d)\n",
    "print(tensor_5d);\n",
    "\n",
    "# tensor_5d.data"
   ]
  },
  {
   "cell_type": "code",
   "execution_count": 5,
   "metadata": {},
   "outputs": [
    {
     "name": "stdout",
     "output_type": "stream",
     "text": [
      "The Frobenious norm of this 5-order tensor is  77.94228634059948\n"
     ]
    }
   ],
   "source": [
    "# Calculate Frobenious norm\n",
    "tensor_5d_FrobNorm = tensor_5d.frob_norm\n",
    "print(\"The Frobenious norm of this 5-order tensor is \", tensor_5d_FrobNorm)"
   ]
  },
  {
   "cell_type": "markdown",
   "metadata": {},
   "source": [
    "### Solution: Part 2"
   ]
  },
  {
   "cell_type": "code",
   "execution_count": 6,
   "metadata": {},
   "outputs": [],
   "source": [
    "# Create tensors and collect information\n",
    "dimSize = 2;\n",
    "tensorOrders = range(3,21);\n",
    "numOfElements = np.zeros(np.size(tensorOrders))\n",
    "index = 0;\n",
    "\n",
    "for order_ith in tensorOrders:\n",
    "    # specify the shape of tensor\n",
    "    tensorShape = np.round(dimSize*np.ones(order_ith)).astype(int);\n",
    "    # create the array\n",
    "    array_temp = np.ones(pow(dimSize, order_ith)).reshape(tensorShape);\n",
    "    # convert the array to a tensor\n",
    "    tensor_temp = Tensor(array_temp);\n",
    "    # count the number of elements\n",
    "    numOfElements[index] = np.size(tensor_temp.data)\n",
    "    index += 1\n",
    "    "
   ]
  },
  {
   "cell_type": "code",
   "execution_count": 7,
   "metadata": {},
   "outputs": [
    {
     "data": {
      "image/png": "[encoded data removed]",
      "text/plain": [
       "<Figure size 432x288 with 1 Axes>"
      ]
     },
     "metadata": {
      "needs_background": "light"
     },
     "output_type": "display_data"
    }
   ],
   "source": [
    "# Plot results\n",
    "plt.plot(tensorOrders, np.round(numOfElements).astype(int));\n",
    "plt.title(\"The relation between the order of a tensor and the number of its elements (dimension size = 2)\");\n",
    "plt.xlabel(\"Order of tensor\");\n",
    "plt.ylabel(\"Number of elements of tensor\");\n",
    "plt.ticklabel_format(axis=\"both\", style=\"plain\");\n",
    "plt.grid();"
   ]
  },
  {
   "cell_type": "markdown",
   "metadata": {},
   "source": [
    "### Solution: Part 3"
   ]
  },
  {
   "cell_type": "code",
   "execution_count": 8,
   "metadata": {},
   "outputs": [],
   "source": [
    "# Create tensors and collect information\n",
    "dimSizes = range(3,16);\n",
    "tensorOrder = 3;\n",
    "numOfElements = np.zeros(np.size(dimSizes));\n",
    "index = 0;\n",
    "\n",
    "for dimSize_ith in dimSizes:\n",
    "    # specify the shape of tensor\n",
    "    tensorShape = np.round(dimSize_ith*np.ones(tensorOrder)).astype(int);\n",
    "    # create the array\n",
    "    array_temp = np.ones(pow(dimSize_ith, tensorOrder)).reshape(tensorShape);\n",
    "    # convert the array to a tensor\n",
    "    tensor_temp = Tensor(array_temp);\n",
    "    # count the number of elements\n",
    "    numOfElements[index] = np.size(tensor_temp.data)\n",
    "    index += 1"
   ]
  },
  {
   "cell_type": "code",
   "execution_count": 9,
   "metadata": {},
   "outputs": [
    {
     "data": {
      "image/png": "[encoded data removed]",
      "text/plain": [
       "<Figure size 432x288 with 1 Axes>"
      ]
     },
     "metadata": {
      "needs_background": "light"
     },
     "output_type": "display_data"
    }
   ],
   "source": [
    "# Plot results\n",
    "plt.plot(dimSizes, np.round(numOfElements).astype(int));\n",
    "plt.title(\"The relation between the size of dimensions of a tensor and the number of its elements (order = 3)\");\n",
    "plt.xlabel(\"Dimension of tensor\");\n",
    "plt.ylabel(\"Number of elements of tensor\");\n",
    "plt.ticklabel_format(axis=\"both\", style=\"plain\");\n",
    "plt.grid();"
   ]
  },
  {
   "cell_type": "markdown",
   "metadata": {},
   "source": [
    "### Solution: Part 4"
   ]
  },
  {
   "cell_type": "markdown",
   "metadata": {},
   "source": [
    "**Include comparison and analysis here**\n",
    "\n",
    "Two figures plotted in above two parts demonstrate the curse of dimensionality. When the size of each dimenson is fixed (e.g., $M = 2$), the number of elements of a tensor ($N$) grows exponentially with its order ($ k $). The relation displayed in Part 2 can be expressed as $ N = M^k = 2^k $. By comparison, when the tensor order is fixed, the number of elements grows polynimally with the size of dimension. In Part 3, the tensor order is set as 3, and the cubic growth of tensor elements can be observed ($ N = M^3 $). Thus, either large dimension size or tensor order can result in the considerably large number of elements. The large number of elements have strict requirement on the hardware storage and results in high computational cost.\n",
    "\n",
    "Besides, compared with the lagre size of dimension, the high tensor order is more likely to cause the large number of element. For example, when $k = 3$ and $M = 20$, $N_1 = 20^3 = 8000$. However, when $k = 20$ and $M = 2$, $N_2 = 2^{20} = {1048578} $. $N_2$ is about 100 times larger than $N_1$. Thus, users should be more care cautious about the growth of tensor order.\n"
   ]
  },
  {
   "cell_type": "markdown",
   "metadata": {
    "toc-hr-collapsed": false
   },
   "source": [
    "# Most common tensor substructures\n",
    "<img src=\"./imgs/tensor_substructures.png\" alt=\"Drawing\" style=\"width: 500px;\"/>\n",
    "\n",
    "1. A **fiber** is a vector obtained by fixing all but one of the indices, e.g.  $\\mathbf{\\underline{X}}[i,:,k]$ is the mode-2 fiber $\\mathbf{\\underline{X}}$ (usually refered to as row fiber). \n",
    "\n",
    "1. Fixing all but two of the indices yields a matrix called a **slice** of a tensor, e.g. $\\mathbf{\\underline{X}}[:,:,k]$ is the mode-[1,2] slice (usually refered to as the frontal slice).\n",
    "\n",
    "**Note:** The same principles and definitions can be applied to a tensor of an arbitrarily large order. In addition, you can obtain a **subtensor** by fixing at least three indices and letting the remaining ones vary."
   ]
  },
  {
   "cell_type": "code",
   "execution_count": 10,
   "metadata": {},
   "outputs": [
    {
     "data": {
      "text/plain": [
       "array([4, 5, 6, 7])"
      ]
     },
     "execution_count": 10,
     "metadata": {},
     "output_type": "execute_result"
    }
   ],
   "source": [
    "# Mode-2 fiber\n",
    "tensor.data[0,1,:]"
   ]
  },
  {
   "cell_type": "code",
   "execution_count": 11,
   "metadata": {},
   "outputs": [
    {
     "data": {
      "text/plain": [
       "array([[ 0,  1,  2,  3],\n",
       "       [ 4,  5,  6,  7],\n",
       "       [ 8,  9, 10, 11]])"
      ]
     },
     "execution_count": 11,
     "metadata": {},
     "output_type": "execute_result"
    }
   ],
   "source": [
    "# Frontal slice\n",
    "tensor.data[0,:,:]"
   ]
  },
  {
   "cell_type": "markdown",
   "metadata": {
    "toc-hr-collapsed": true
   },
   "source": [
    "## **Assigment 2**\n",
    "\n",
    "1. Create a tensor of order 4 which consists of 81 elements and display all its horizontal slices and any five row fibers.\n",
    "2. Create a tensor of order 3 and shape `(4,2,5)`, where the values of each consequent frontal slice are doubled."
   ]
  },
  {
   "cell_type": "markdown",
   "metadata": {},
   "source": [
    "### Solution: Part 1"
   ]
  },
  {
   "cell_type": "code",
   "execution_count": 12,
   "metadata": {},
   "outputs": [
    {
     "name": "stdout",
     "output_type": "stream",
     "text": [
      "This tensor is of order 4 and consists of 81 elements.\n",
      "Sizes and names of its modes are (3, 3, 3, 3) and ['mode-0', 'mode-1', 'mode-2', 'mode-3'] respectively.\n"
     ]
    }
   ],
   "source": [
    "# Create a tensor of order 4 with 81 elements\n",
    "tensorOrder = 4;\n",
    "array_4d = np.arange(81).reshape((3, 3, 3, 3));\n",
    "\n",
    "tensor_4d = Tensor(array_4d)\n",
    "print(tensor_4d);"
   ]
  },
  {
   "cell_type": "code",
   "execution_count": 13,
   "metadata": {},
   "outputs": [
    {
     "name": "stdout",
     "output_type": "stream",
     "text": [
      "[[ 0  3  6]\n",
      " [ 9 12 15]\n",
      " [18 21 24]]\n",
      "[[ 1  4  7]\n",
      " [10 13 16]\n",
      " [19 22 25]]\n",
      "[[ 2  5  8]\n",
      " [11 14 17]\n",
      " [20 23 26]]\n",
      "[[27 30 33]\n",
      " [36 39 42]\n",
      " [45 48 51]]\n",
      "[[28 31 34]\n",
      " [37 40 43]\n",
      " [46 49 52]]\n",
      "[[29 32 35]\n",
      " [38 41 44]\n",
      " [47 50 53]]\n",
      "[[54 57 60]\n",
      " [63 66 69]\n",
      " [72 75 78]]\n",
      "[[55 58 61]\n",
      " [64 67 70]\n",
      " [73 76 79]]\n",
      "[[56 59 62]\n",
      " [65 68 71]\n",
      " [74 77 80]]\n"
     ]
    }
   ],
   "source": [
    "# Display slices - mode 1 & 2\n",
    "for i in range(0,3):\n",
    "    for j in range(0,3):\n",
    "        print(tensor_4d.data[i,:,:,j]);"
   ]
  },
  {
   "cell_type": "code",
   "execution_count": 14,
   "metadata": {},
   "outputs": [
    {
     "name": "stdout",
     "output_type": "stream",
     "text": [
      "[ 0  9 18]\n",
      "[27 36 45]\n",
      "[54 63 72]\n",
      "[ 3 12 21]\n",
      "[ 6 15 24]\n"
     ]
    }
   ],
   "source": [
    "# Display fibers - mode 1\n",
    "print(tensor_4d.data[0,:,0,0]);\n",
    "print(tensor_4d.data[1,:,0,0]);\n",
    "print(tensor_4d.data[2,:,0,0]);\n",
    "print(tensor_4d.data[0,:,1,0]);\n",
    "print(tensor_4d.data[0,:,2,0]);"
   ]
  },
  {
   "cell_type": "markdown",
   "metadata": {},
   "source": [
    "### Solution: Part 2"
   ]
  },
  {
   "cell_type": "code",
   "execution_count": 15,
   "metadata": {},
   "outputs": [
    {
     "name": "stdout",
     "output_type": "stream",
     "text": [
      "[[[ 1.  2.  4.  8. 16.]\n",
      "  [ 1.  2.  4.  8. 16.]]\n",
      "\n",
      " [[ 1.  2.  4.  8. 16.]\n",
      "  [ 1.  2.  4.  8. 16.]]\n",
      "\n",
      " [[ 1.  2.  4.  8. 16.]\n",
      "  [ 1.  2.  4.  8. 16.]]\n",
      "\n",
      " [[ 1.  2.  4.  8. 16.]\n",
      "  [ 1.  2.  4.  8. 16.]]]\n"
     ]
    }
   ],
   "source": [
    "# Create a tensor of order 3\n",
    "tensorOrder = 3;\n",
    "array_3d = np.ones(40).reshape((4,2,5));\n",
    "\n",
    "tensor_3d = Tensor(array_3d);\n",
    "\n",
    "for i in range(1,5):\n",
    "    tensor_3d.data[:,:,i] = 2*tensor_3d.data[:,:,i-1]\n",
    "    \n",
    "print(tensor_3d.data);"
   ]
  },
  {
   "cell_type": "markdown",
   "metadata": {
    "toc-hr-collapsed": false
   },
   "source": [
    "# Unfolding\n",
    "\n",
    "Conventionally, unfolding is considered to be a process of element mapping from a tensor to a matrix. In other words, it arranges the mode-$n$ fibers of a tensor to be the matrix columns. Thus, the mode-$n$ unfolding is denoted as:\n",
    "\n",
    "$$\\mathbf{\\underline{A}} \\xrightarrow{n} \\mathbf{A}_{(n)}$$\n",
    "\n",
    "Thus, this operations requires to specify a mode along which a tensor will be unfolded. For a third order tensor, a visual representation of such operation is as following\n",
    "\n",
    "<img src=\"./imgs/unfolding.png\" alt=\"Drawing\" style=\"width: 600px;\"/>\n",
    "\n",
    "In `hottbox` this functionality is available through the corresponding methods of the `Tensor` object, for instance:"
   ]
  },
  {
   "cell_type": "code",
   "execution_count": 16,
   "metadata": {},
   "outputs": [
    {
     "name": "stdout",
     "output_type": "stream",
     "text": [
      "This tensor is of order 2 and consists of 24 elements.\n",
      "Sizes and names of its modes are (2, 12) and ['mode-0', 'mode-1_mode-2'] respectively.\n"
     ]
    },
    {
     "data": {
      "text/plain": [
       "array([[ 0,  1,  2,  3,  4,  5,  6,  7,  8,  9, 10, 11],\n",
       "       [12, 13, 14, 15, 16, 17, 18, 19, 20, 21, 22, 23]])"
      ]
     },
     "execution_count": 16,
     "metadata": {},
     "output_type": "execute_result"
    }
   ],
   "source": [
    "# Create 3-d array of data\n",
    "array_3d = np.arange(24).reshape((2, 3, 4))\n",
    "\n",
    "# Create tensor\n",
    "tensor = Tensor(array_3d)\n",
    "\n",
    "# Unfolding of a tensor\n",
    "tensor.unfold(mode=0)\n",
    "\n",
    "# Result preview\n",
    "print(tensor)\n",
    "tensor.data"
   ]
  },
  {
   "cell_type": "markdown",
   "metadata": {
    "toc-hr-collapsed": true
   },
   "source": [
    "## **Assigment 3**\n",
    "\n",
    "1. Create a tensor, $\\mathbf{\\underline{A}}$, of order 4, in such a way that its version unfolded along the second mode would have sizes `(5,72)`, that is $\\mathbf{A}_{(n)} \\in  \\mathbb{R}^{5 \\times 72}$. Validate your results by displaying the unfolded tensor."
   ]
  },
  {
   "cell_type": "markdown",
   "metadata": {},
   "source": [
    "### Solution : Part 1"
   ]
  },
  {
   "cell_type": "code",
   "execution_count": 17,
   "metadata": {},
   "outputs": [
    {
     "name": "stdout",
     "output_type": "stream",
     "text": [
      "This tensor is of order 4 and consists of 360 elements.\n",
      "Sizes and names of its modes are (3, 5, 3, 8) and ['mode-0', 'mode-1', 'mode-2', 'mode-3'] respectively.\n"
     ]
    }
   ],
   "source": [
    "# Create 4-d array of data\n",
    "array_4d = np.arange(360).reshape((3, 5, 3, 8))\n",
    "\n",
    "# Create a tensor\n",
    "tensor_4d = Tensor(array_4d)\n",
    "\n",
    "# Result preview\n",
    "print(tensor_4d)\n",
    "#tensor_4d.data"
   ]
  },
  {
   "cell_type": "code",
   "execution_count": 18,
   "metadata": {},
   "outputs": [
    {
     "name": "stdout",
     "output_type": "stream",
     "text": [
      "This tensor is of order 2 and consists of 360 elements.\n",
      "Sizes and names of its modes are (5, 72) and ['mode-1', 'mode-0_mode-2_mode-3'] respectively.\n"
     ]
    },
    {
     "data": {
      "text/plain": [
       "array([[  0,   1,   2,   3,   4,   5,   6,   7,   8,   9,  10,  11,  12,\n",
       "         13,  14,  15,  16,  17,  18,  19,  20,  21,  22,  23, 120, 121,\n",
       "        122, 123, 124, 125, 126, 127, 128, 129, 130, 131, 132, 133, 134,\n",
       "        135, 136, 137, 138, 139, 140, 141, 142, 143, 240, 241, 242, 243,\n",
       "        244, 245, 246, 247, 248, 249, 250, 251, 252, 253, 254, 255, 256,\n",
       "        257, 258, 259, 260, 261, 262, 263],\n",
       "       [ 24,  25,  26,  27,  28,  29,  30,  31,  32,  33,  34,  35,  36,\n",
       "         37,  38,  39,  40,  41,  42,  43,  44,  45,  46,  47, 144, 145,\n",
       "        146, 147, 148, 149, 150, 151, 152, 153, 154, 155, 156, 157, 158,\n",
       "        159, 160, 161, 162, 163, 164, 165, 166, 167, 264, 265, 266, 267,\n",
       "        268, 269, 270, 271, 272, 273, 274, 275, 276, 277, 278, 279, 280,\n",
       "        281, 282, 283, 284, 285, 286, 287],\n",
       "       [ 48,  49,  50,  51,  52,  53,  54,  55,  56,  57,  58,  59,  60,\n",
       "         61,  62,  63,  64,  65,  66,  67,  68,  69,  70,  71, 168, 169,\n",
       "        170, 171, 172, 173, 174, 175, 176, 177, 178, 179, 180, 181, 182,\n",
       "        183, 184, 185, 186, 187, 188, 189, 190, 191, 288, 289, 290, 291,\n",
       "        292, 293, 294, 295, 296, 297, 298, 299, 300, 301, 302, 303, 304,\n",
       "        305, 306, 307, 308, 309, 310, 311],\n",
       "       [ 72,  73,  74,  75,  76,  77,  78,  79,  80,  81,  82,  83,  84,\n",
       "         85,  86,  87,  88,  89,  90,  91,  92,  93,  94,  95, 192, 193,\n",
       "        194, 195, 196, 197, 198, 199, 200, 201, 202, 203, 204, 205, 206,\n",
       "        207, 208, 209, 210, 211, 212, 213, 214, 215, 312, 313, 314, 315,\n",
       "        316, 317, 318, 319, 320, 321, 322, 323, 324, 325, 326, 327, 328,\n",
       "        329, 330, 331, 332, 333, 334, 335],\n",
       "       [ 96,  97,  98,  99, 100, 101, 102, 103, 104, 105, 106, 107, 108,\n",
       "        109, 110, 111, 112, 113, 114, 115, 116, 117, 118, 119, 216, 217,\n",
       "        218, 219, 220, 221, 222, 223, 224, 225, 226, 227, 228, 229, 230,\n",
       "        231, 232, 233, 234, 235, 236, 237, 238, 239, 336, 337, 338, 339,\n",
       "        340, 341, 342, 343, 344, 345, 346, 347, 348, 349, 350, 351, 352,\n",
       "        353, 354, 355, 356, 357, 358, 359]])"
      ]
     },
     "execution_count": 18,
     "metadata": {},
     "output_type": "execute_result"
    }
   ],
   "source": [
    "# unfold along second mode (i.e., mode - 1)\n",
    "tensor_2d = tensor_4d.unfold(mode=1, inplace=False);\n",
    "# Display unfolded version\n",
    "print(tensor_2d)\n",
    "tensor_2d.data"
   ]
  },
  {
   "cell_type": "markdown",
   "metadata": {
    "toc-hr-collapsed": false
   },
   "source": [
    "# Mode-n product \n",
    "<img src=\"./imgs/mode_n_product.png\" alt=\"Drawing\" style=\"width: 600px;\"/>\n",
    "\n",
    "The mode-$n$ product is a multiplication of a tensor  by a matrix along the $n^{th}$ mode of a tensor. This essentially means that each mode-$n$ fiber should be multiplied by this matrix. Mathematically, this can be expressed as:\n",
    "\n",
    "$$\\mathbf{\\underline{X}} \\times_n \\mathbf{A} = \\mathbf{\\underline{Y}} \\quad \\Leftrightarrow  \\quad \\mathbf{Y}_{(n)} = \\mathbf{A} \\mathbf{X}_{(n)}  $$"
   ]
  },
  {
   "cell_type": "code",
   "execution_count": 19,
   "metadata": {},
   "outputs": [
    {
     "name": "stdout",
     "output_type": "stream",
     "text": [
      "This tensor is of order 3 and consists of 40 elements.\n",
      "Sizes and names of its modes are (2, 5, 4) and ['mode-0', 'mode-1', 'mode-2'] respectively.\n"
     ]
    },
    {
     "data": {
      "text/plain": [
       "array([[ 20,  23,  26,  29,  56,  59,  62,  65],\n",
       "       [ 56,  68,  80,  92, 200, 212, 224, 236],\n",
       "       [ 92, 113, 134, 155, 344, 365, 386, 407],\n",
       "       [128, 158, 188, 218, 488, 518, 548, 578],\n",
       "       [164, 203, 242, 281, 632, 671, 710, 749]])"
      ]
     },
     "execution_count": 19,
     "metadata": {},
     "output_type": "execute_result"
    }
   ],
   "source": [
    "I, J, K = 2, 3, 4\n",
    "J_new = 5\n",
    "\n",
    "# Create tensor\n",
    "array_3d = np.arange(I * J * K).reshape(I, J ,K)\n",
    "X = Tensor(array_3d)\n",
    "\n",
    "# Create matrix\n",
    "A = np.arange(J_new * J).reshape(J_new, J)\n",
    "\n",
    "# Performs Mode-n product \n",
    "Y = X.mode_n_product(A, mode=1, inplace=False)\n",
    "\n",
    "# Preview of resulting tensor\n",
    "print(Y)\n",
    "\n",
    "# Preview of its unfolded version\n",
    "Y.unfold(mode=1, inplace=False).data"
   ]
  },
  {
   "cell_type": "markdown",
   "metadata": {
    "toc-hr-collapsed": true
   },
   "source": [
    "## **Assignment 4**\n",
    "\n",
    "1. Perform the mode-$n$ product of a 3-rd order tensor, $\\mathbf{\\underline{X}}$, with a matrix, $\\mathbf{A} \\in  \\mathbb{R}^{5 \\times 4}$, provided that the resulting tensor, $\\mathbf{\\underline{Y}}$, consists of `100` elements. Validate your results. \n",
    "\n",
    "> **Note:** You are encouraged to experiment with the optional parameter `inplace` and to investigate its effect on the result."
   ]
  },
  {
   "cell_type": "markdown",
   "metadata": {},
   "source": [
    "### Solution: Part 1"
   ]
  },
  {
   "cell_type": "code",
   "execution_count": 20,
   "metadata": {},
   "outputs": [],
   "source": [
    "# Create original 3-rd tensor \n",
    "array_3d = np.arange(80).reshape((5,4,4));\n",
    "\n",
    "# Create a tensor\n",
    "tensor_3d_X = Tensor(array_3d)"
   ]
  },
  {
   "cell_type": "code",
   "execution_count": 21,
   "metadata": {},
   "outputs": [],
   "source": [
    "# Create matrix\n",
    "matrix_A = np.arange(20).reshape((5,4));"
   ]
  },
  {
   "cell_type": "code",
   "execution_count": 22,
   "metadata": {},
   "outputs": [
    {
     "name": "stdout",
     "output_type": "stream",
     "text": [
      "This tensor is of order 3 and consists of 100 elements.\n",
      "Sizes and names of its modes are (5, 5, 4) and ['mode-0', 'mode-1', 'mode-2'] respectively.\n"
     ]
    },
    {
     "data": {
      "text/plain": [
       "array([[[  56,   62,   68,   74],\n",
       "        [ 152,  174,  196,  218],\n",
       "        [ 248,  286,  324,  362],\n",
       "        [ 344,  398,  452,  506],\n",
       "        [ 440,  510,  580,  650]],\n",
       "\n",
       "       [[ 152,  158,  164,  170],\n",
       "        [ 504,  526,  548,  570],\n",
       "        [ 856,  894,  932,  970],\n",
       "        [1208, 1262, 1316, 1370],\n",
       "        [1560, 1630, 1700, 1770]],\n",
       "\n",
       "       [[ 248,  254,  260,  266],\n",
       "        [ 856,  878,  900,  922],\n",
       "        [1464, 1502, 1540, 1578],\n",
       "        [2072, 2126, 2180, 2234],\n",
       "        [2680, 2750, 2820, 2890]],\n",
       "\n",
       "       [[ 344,  350,  356,  362],\n",
       "        [1208, 1230, 1252, 1274],\n",
       "        [2072, 2110, 2148, 2186],\n",
       "        [2936, 2990, 3044, 3098],\n",
       "        [3800, 3870, 3940, 4010]],\n",
       "\n",
       "       [[ 440,  446,  452,  458],\n",
       "        [1560, 1582, 1604, 1626],\n",
       "        [2680, 2718, 2756, 2794],\n",
       "        [3800, 3854, 3908, 3962],\n",
       "        [4920, 4990, 5060, 5130]]])"
      ]
     },
     "execution_count": 22,
     "metadata": {},
     "output_type": "execute_result"
    }
   ],
   "source": [
    "# Perform mode-1 product \n",
    "product_Y = tensor_3d_X.mode_n_product(matrix_A, mode=1, inplace=False)\n",
    "print(product_Y)\n",
    "product_Y.data"
   ]
  },
  {
   "cell_type": "code",
   "execution_count": 23,
   "metadata": {},
   "outputs": [
    {
     "name": "stdout",
     "output_type": "stream",
     "text": [
      "LHS = RHS?:  True\n"
     ]
    }
   ],
   "source": [
    "# Validate equivalence between the left and right hand side\n",
    "LHS = product_Y.unfold(mode=1, inplace=False).data\n",
    "RHS = np.matmul(matrix_A, tensor_3d_X.unfold(mode=1, inplace=False).data);\n",
    "print(\"LHS = RHS?: \", np.array_equal(LHS, RHS));"
   ]
  },
  {
   "cell_type": "markdown",
   "metadata": {},
   "source": [
    "# Properties of mode-n product\n",
    "\n",
    "1. For distinct modes in a series of multiplications, the order of the multiplication is irrelevent: \n",
    "\n",
    "    $$\\mathbf{\\underline{X}} \\times_n \\mathbf{A} \\times_m \\mathbf{B} = \\mathbf{\\underline{X}} \\times_m \\mathbf{B} \\times_n \\mathbf{A} \\quad (m \\neq n)$$\n",
    "\n",
    "1. However, this does not hold if the modes are the same :\n",
    "\n",
    "    $$\\mathbf{\\underline{X}} \\times_n \\mathbf{A} \\times_n \\mathbf{B} = \\mathbf{\\underline{X}} \\times_n (\\mathbf{B}\\mathbf{A})$$"
   ]
  },
  {
   "cell_type": "markdown",
   "metadata": {
    "toc-hr-collapsed": true
   },
   "source": [
    "## **Assignment 5**\n",
    "\n",
    "1. Validate both of the above properties empirically \n",
    "2. Prove the second property analytically\n",
    "\n",
    "> **Note:** Be aware of consequences of the optional parameter `inplace` (its default value is set to `True`)."
   ]
  },
  {
   "cell_type": "markdown",
   "metadata": {},
   "source": [
    "### Solution: Part 1"
   ]
  },
  {
   "cell_type": "code",
   "execution_count": 24,
   "metadata": {},
   "outputs": [],
   "source": [
    "# Create original 3-rd tensor \n",
    "array_3d = np.arange(120).reshape((4,5,6));\n",
    "\n",
    "# Create tensor\n",
    "tensorX = Tensor(array_3d)"
   ]
  },
  {
   "cell_type": "code",
   "execution_count": 25,
   "metadata": {},
   "outputs": [],
   "source": [
    "# Create matrices\n",
    "matrixA = np.arange(30).reshape((6,5));\n",
    "matrixB = np.arange(24).reshape((4,6));"
   ]
  },
  {
   "cell_type": "code",
   "execution_count": 26,
   "metadata": {},
   "outputs": [
    {
     "name": "stdout",
     "output_type": "stream",
     "text": [
      "LHS = RHS?:  True\n",
      "\n",
      "\n",
      "X xn A xm B:  [[[   3250   10630   18010   25390]\n",
      "  [   9125   29555   49985   70415]\n",
      "  [  15000   48480   81960  115440]\n",
      "  [  20875   67405  113935  160465]\n",
      "  [  26750   86330  145910  205490]\n",
      "  [  32625  105255  177885  250515]]\n",
      "\n",
      " [[   7750   25930   44110   62290]\n",
      "  [  24875   83105  141335  199565]\n",
      "  [  42000  140280  238560  336840]\n",
      "  [  59125  197455  335785  474115]\n",
      "  [  76250  254630  433010  611390]\n",
      "  [  93375  311805  530235  748665]]\n",
      "\n",
      " [[  12250   41230   70210   99190]\n",
      "  [  40625  136655  232685  328715]\n",
      "  [  69000  232080  395160  558240]\n",
      "  [  97375  327505  557635  787765]\n",
      "  [ 125750  422930  720110 1017290]\n",
      "  [ 154125  518355  882585 1246815]]\n",
      "\n",
      " [[  16750   56530   96310  136090]\n",
      "  [  56375  190205  324035  457865]\n",
      "  [  96000  323880  551760  779640]\n",
      "  [ 135625  457555  779485 1101415]\n",
      "  [ 175250  591230 1007210 1423190]\n",
      "  [ 214875  724905 1234935 1744965]]]\n",
      "\n",
      "\n",
      "X xm B xn A:  [[[   3250   10630   18010   25390]\n",
      "  [   9125   29555   49985   70415]\n",
      "  [  15000   48480   81960  115440]\n",
      "  [  20875   67405  113935  160465]\n",
      "  [  26750   86330  145910  205490]\n",
      "  [  32625  105255  177885  250515]]\n",
      "\n",
      " [[   7750   25930   44110   62290]\n",
      "  [  24875   83105  141335  199565]\n",
      "  [  42000  140280  238560  336840]\n",
      "  [  59125  197455  335785  474115]\n",
      "  [  76250  254630  433010  611390]\n",
      "  [  93375  311805  530235  748665]]\n",
      "\n",
      " [[  12250   41230   70210   99190]\n",
      "  [  40625  136655  232685  328715]\n",
      "  [  69000  232080  395160  558240]\n",
      "  [  97375  327505  557635  787765]\n",
      "  [ 125750  422930  720110 1017290]\n",
      "  [ 154125  518355  882585 1246815]]\n",
      "\n",
      " [[  16750   56530   96310  136090]\n",
      "  [  56375  190205  324035  457865]\n",
      "  [  96000  323880  551760  779640]\n",
      "  [ 135625  457555  779485 1101415]\n",
      "  [ 175250  591230 1007210 1423190]\n",
      "  [ 214875  724905 1234935 1744965]]]\n"
     ]
    }
   ],
   "source": [
    "# Validate property 1\n",
    "\n",
    "XAB = tensorX.mode_n_product(matrixA, mode=1, inplace=False).mode_n_product(matrixB, mode=2, inplace=False);\n",
    "XBA = tensorX.mode_n_product(matrixB, mode=2, inplace=False).mode_n_product(matrixA, mode=1, inplace=False);\n",
    "\n",
    "print(\"LHS = RHS?: \", np.array_equal(XAB.data, XBA.data));\n",
    "print(\"\\n\\nX xn A xm B: \", XAB.data);\n",
    "print(\"\\n\\nX xm B xn A: \", XBA.data);"
   ]
  },
  {
   "cell_type": "code",
   "execution_count": 27,
   "metadata": {},
   "outputs": [
    {
     "name": "stdout",
     "output_type": "stream",
     "text": [
      "LHS = RHS?:  True\n",
      "\n",
      "\n",
      "X xm A xn B:  [[[  19200   20725   22250   23775   25300   26825]\n",
      "  [  52680   56815   60950   65085   69220   73355]\n",
      "  [  86160   92905   99650  106395  113140  119885]\n",
      "  [ 119640  128995  138350  147705  157060  166415]]\n",
      "\n",
      " [[  64950   66475   68000   69525   71050   72575]\n",
      "  [ 176730  180865  185000  189135  193270  197405]\n",
      "  [ 288510  295255  302000  308745  315490  322235]\n",
      "  [ 400290  409645  419000  428355  437710  447065]]\n",
      "\n",
      " [[ 110700  112225  113750  115275  116800  118325]\n",
      "  [ 300780  304915  309050  313185  317320  321455]\n",
      "  [ 490860  497605  504350  511095  517840  524585]\n",
      "  [ 680940  690295  699650  709005  718360  727715]]\n",
      "\n",
      " [[ 156450  157975  159500  161025  162550  164075]\n",
      "  [ 424830  428965  433100  437235  441370  445505]\n",
      "  [ 693210  699955  706700  713445  720190  726935]\n",
      "  [ 961590  970945  980300  989655  999010 1008365]]]\n",
      "\n",
      "\n",
      "X xn (B x A):  [[[  19200   20725   22250   23775   25300   26825]\n",
      "  [  52680   56815   60950   65085   69220   73355]\n",
      "  [  86160   92905   99650  106395  113140  119885]\n",
      "  [ 119640  128995  138350  147705  157060  166415]]\n",
      "\n",
      " [[  64950   66475   68000   69525   71050   72575]\n",
      "  [ 176730  180865  185000  189135  193270  197405]\n",
      "  [ 288510  295255  302000  308745  315490  322235]\n",
      "  [ 400290  409645  419000  428355  437710  447065]]\n",
      "\n",
      " [[ 110700  112225  113750  115275  116800  118325]\n",
      "  [ 300780  304915  309050  313185  317320  321455]\n",
      "  [ 490860  497605  504350  511095  517840  524585]\n",
      "  [ 680940  690295  699650  709005  718360  727715]]\n",
      "\n",
      " [[ 156450  157975  159500  161025  162550  164075]\n",
      "  [ 424830  428965  433100  437235  441370  445505]\n",
      "  [ 693210  699955  706700  713445  720190  726935]\n",
      "  [ 961590  970945  980300  989655  999010 1008365]]]\n"
     ]
    }
   ],
   "source": [
    "# Validate property 2\n",
    "\n",
    "XAB = tensorX.mode_n_product(matrixA, mode=1, inplace=False).mode_n_product(matrixB, mode=1, inplace=False);\n",
    "X_AB = tensorX.mode_n_product(np.matmul(matrixB,matrixA), mode=1, inplace=False)\n",
    "\n",
    "print(\"LHS = RHS?: \", np.array_equal(XAB.data, X_AB.data));\n",
    "print(\"\\n\\nX xm A xn B: \", XAB.data);\n",
    "print(\"\\n\\nX xn (B x A): \", X_AB.data);"
   ]
  },
  {
   "cell_type": "markdown",
   "metadata": {
    "toc-hr-collapsed": true
   },
   "source": [
    "### Solution: Part 2\n",
    "\n",
    "Use [LaTeX syntax](https://stackoverflow.com/questions/13208286/how-to-write-latex-in-ipython-notebook) for analytical deriviations for the second property below.\n"
   ]
  },
  {
   "cell_type": "markdown",
   "metadata": {},
   "source": [
    "The equation used in Assignment 4 is:\n",
    "$$\\mathbf{\\underline{X}} \\times_n \\mathbf{A} = \\mathbf{\\underline{Y}} \\quad \\Leftrightarrow  \\quad \\mathbf{Y}_{(n)} = \\mathbf{A} \\mathbf{X}_{(n)}  $$\n",
    "\n",
    "According to the tensor unfolding property, \n",
    "$$\\mathbf{\\underline{Y}} \\xrightarrow{n} \\mathbf{Y}_{(n)}$$\n",
    "\n",
    "The assumption is made that $\\mathbf{A}$ is a $m$ by $k$ matrix, and $\\mathbf{B}$ is a $t$ by $m$ matrix.\n",
    "$$ \\mathbf{A} \\in \\mathbb{R}^{m\\times k},  \\mathbf{B} \\in \\mathbb{R}^{t\\times m} $$ \n",
    "\n",
    "The size of $n^{th}$ dimension of tensor $\\mathbf{\\underline{Y}}$ is $m$, and $\\mathbf{Y}_{(n)}$ has $m$ columns. Thus. the following multiplication is applicable.\n",
    "\n",
    "The product of $\\mathbf{\\underline{Y}}$ and $\\mathbf{B}$ is:\n",
    "$$ \\mathbf{\\underline{Z}} = \\mathbf{\\underline{X}} \\times_n \\mathbf{A} \\times_n \\mathbf{B} = \\mathbf{\\underline{Y}} \\times_n \\mathbf{B}$$\n",
    "\n",
    "The unfolding matrix $\\mathbf{Z}_{(n)}$ now can be expressed as,\n",
    "$$ \\mathbf{\\underline{Z}} \\xrightarrow{n} \\mathbf{Z}_{(n)} = \\mathbf{B} \\mathbf{Y}_{(n)} = \\mathbf{B} \\mathbf{A} \\mathbf{X}_{(n)} = (\\mathbf{B}\\mathbf{A}) \\times \\mathbf{X}_{(n)} \\quad \\Leftrightarrow  \\quad \\mathbf{\\underline{Z}} = \\mathbf{\\underline{X}} \\times_n (\\mathbf{B}\\mathbf{A}) $$\n",
    "\n",
    "By comparing two expressions of $\\mathbf{\\underline{Z}}$, the target equation is proved.\n",
    "$$\\mathbf{\\underline{X}} \\times_n \\mathbf{A} \\times_n \\mathbf{B} = \\mathbf{\\underline{X}} \\times_n (\\mathbf{B}\\mathbf{A})$$"
   ]
  }
 ],
 "metadata": {
  "kernelspec": {
   "display_name": "Python 3 (ipykernel)",
   "language": "python",
   "name": "python3"
  },
  "language_info": {
   "codemirror_mode": {
    "name": "ipython",
    "version": 3
   },
   "file_extension": ".py",
   "mimetype": "text/x-python",
   "name": "python",
   "nbconvert_exporter": "python",
   "pygments_lexer": "ipython3",
   "version": "3.9.6"
  },
  "toc-autonumbering": false,
  "toc-showcode": false,
  "toc-showmarkdowntxt": false
 },
 "nbformat": 4,
 "nbformat_minor": 2
}
